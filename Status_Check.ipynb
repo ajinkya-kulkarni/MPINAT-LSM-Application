{
 "cells": [
  {
   "cell_type": "code",
   "execution_count": 1,
   "id": "c8565cf4",
   "metadata": {},
   "outputs": [],
   "source": [
    "import os\n",
    "import numpy as np\n",
    "\n",
    "import logging\n",
    "import boto3\n",
    "from botocore.exceptions import ClientError\n",
    "import caosdb as db\n",
    "\n",
    "import glob\n",
    "from datetime import datetime\n",
    "\n",
    "import csv\n",
    "\n",
    "import urllib3\n",
    "urllib3.disable_warnings() # Disable the HTTPS warnings for CaosDB authentication\n",
    "\n",
    "import sys\n",
    "# Don't generate the __pycache__ folder locally\n",
    "sys.dont_write_bytecode = True"
   ]
  },
  {
   "cell_type": "markdown",
   "id": "a1beb8df",
   "metadata": {},
   "source": [
    "### Import the passwords file"
   ]
  },
  {
   "cell_type": "code",
   "execution_count": 2,
   "id": "b2525fc3",
   "metadata": {},
   "outputs": [],
   "source": [
    "from PASSWORDS import *"
   ]
  },
  {
   "cell_type": "markdown",
   "id": "73b49ce6",
   "metadata": {},
   "source": [
    "### Connect to the Amazon S3 _'aba'_ bucket"
   ]
  },
  {
   "cell_type": "code",
   "execution_count": 3,
   "id": "8db3e705",
   "metadata": {},
   "outputs": [],
   "source": [
    "# Create an S3 resource object using endpoint URL and access keys\n",
    "s3 = boto3.resource('s3',endpoint_url=AMAZON_S3_ENDPOINT_URL, \n",
    "                    aws_access_key_id=AMAZON_S3_ACCESS_KEY, \n",
    "                    aws_secret_access_key=AMAZON_S3_SECRET_KEY)\n",
    "\n",
    "# Create a Bucket object representing the specified Amazon S3 bucket\n",
    "bucket = s3.Bucket(AMAZON_S3_BUCKET)"
   ]
  },
  {
   "cell_type": "markdown",
   "id": "e5fd08be",
   "metadata": {},
   "source": [
    "### Retreive all relevant files from the Amazon S3 _'aba'_ bucket"
   ]
  },
  {
   "cell_type": "code",
   "execution_count": 4,
   "id": "55545f90",
   "metadata": {},
   "outputs": [
    {
     "name": "stdout",
     "output_type": "stream",
     "text": [
      "94496 files/entries retreived successfully\n",
      "\n"
     ]
    }
   ],
   "source": [
    "# Get list of objects in the bucket\n",
    "objects = list(bucket.objects.all())\n",
    "\n",
    "# Get total number of files in the bucket\n",
    "total_files = len(objects)\n",
    "\n",
    "# Print success message\n",
    "print(str(total_files) + \" files/entries retreived successfully\")\n",
    "print()"
   ]
  },
  {
   "cell_type": "markdown",
   "id": "e2cef1c9",
   "metadata": {},
   "source": [
    "### Write file names and upload dates to a text file"
   ]
  },
  {
   "cell_type": "code",
   "execution_count": 5,
   "id": "0a4b9242",
   "metadata": {},
   "outputs": [],
   "source": [
    "filename = 'S3_files.txt'\n",
    "\n",
    "if os.path.exists(filename):\n",
    "    os.remove(filename)"
   ]
  },
  {
   "cell_type": "code",
   "execution_count": 6,
   "id": "359ac1ce",
   "metadata": {},
   "outputs": [],
   "source": [
    "with open('S3_files.txt', 'w') as file:\n",
    "\n",
    "    # Write the first line with timestamp\n",
    "    timestamp = datetime.now().strftime('%d %B %Y at %H:%M hrs')\n",
    "    file.write('Log generated on ' + timestamp + '\\n')\n",
    "    file.write('\\n')\n",
    "    \n",
    "    # Loop over each object in the bucket and write its name and upload date to the text file\n",
    "    for i in range(total_files):\n",
    "        \n",
    "        obj = objects[i]\n",
    "        \n",
    "        # Write object name and upload date to text file\n",
    "        file.write(obj.key + ' ' + obj.last_modified.strftime('(Created on : ' + '%d %B %Y at %H:%M hrs)') + '\\n')"
   ]
  },
  {
   "cell_type": "markdown",
   "id": "0b2450d3",
   "metadata": {},
   "source": [
    "### Delete test files/objects from the _'aba'_ S3 bucket"
   ]
  },
  {
   "cell_type": "code",
   "execution_count": 7,
   "id": "643be710",
   "metadata": {},
   "outputs": [
    {
     "name": "stdout",
     "output_type": "stream",
     "text": [
      "TestSample_0/TestFile1.tiff\n",
      "TestSample_0/TestFile1.tiff deleted\n",
      "TestSample_0/TestFile2.tiff\n",
      "TestSample_0/TestFile2.tiff deleted\n",
      "TestSample_0/TestFile3.tiff\n",
      "TestSample_0/TestFile3.tiff deleted\n"
     ]
    }
   ],
   "source": [
    "# Loop over all objects in the bucket that contain the word 'Test' in their key name\n",
    "\n",
    "for i in range(total_files):\n",
    "        \n",
    "    obj = objects[i]\n",
    "\n",
    "    if ('Test' in obj.key):\n",
    "\n",
    "        try:\n",
    "\n",
    "            print(str(obj.key))\n",
    "            \n",
    "            # Delete the object\n",
    "            obj.delete()\n",
    "\n",
    "            # Print message indicating that the object was deleted successfully\n",
    "            print(str(obj.key) + ' deleted')\n",
    "            \n",
    "            print()\n",
    "\n",
    "        except:\n",
    "            # If an error occurs, raise an exception\n",
    "            raise Exception('Something went wrong')"
   ]
  },
  {
   "cell_type": "code",
   "execution_count": null,
   "id": "f6abeb61",
   "metadata": {},
   "outputs": [],
   "source": []
  }
 ],
 "metadata": {
  "kernelspec": {
   "display_name": "Python 3 (ipykernel)",
   "language": "python",
   "name": "python3"
  },
  "language_info": {
   "codemirror_mode": {
    "name": "ipython",
    "version": 3
   },
   "file_extension": ".py",
   "mimetype": "text/x-python",
   "name": "python",
   "nbconvert_exporter": "python",
   "pygments_lexer": "ipython3",
   "version": "3.10.9"
  }
 },
 "nbformat": 4,
 "nbformat_minor": 5
}
