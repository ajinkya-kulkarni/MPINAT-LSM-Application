{
 "cells": [
  {
   "cell_type": "code",
   "execution_count": 1,
   "id": "15f913bb",
   "metadata": {},
   "outputs": [],
   "source": [
    "import numpy as np"
   ]
  },
  {
   "cell_type": "code",
   "execution_count": 2,
   "id": "cc827f3a",
   "metadata": {},
   "outputs": [
    {
     "data": {
      "text/plain": [
       "['yes', 'no', 'yes', 'no', 'no']"
      ]
     },
     "execution_count": 2,
     "metadata": {},
     "output_type": "execute_result"
    }
   ],
   "source": [
    "list1 = ['yes', 'no', 'yes', 'no', 'no']\n",
    "\n",
    "list1"
   ]
  },
  {
   "cell_type": "code",
   "execution_count": 3,
   "id": "2f69be73",
   "metadata": {},
   "outputs": [
    {
     "data": {
      "text/plain": [
       "['0', '1', '0', '1', '1']"
      ]
     },
     "execution_count": 3,
     "metadata": {},
     "output_type": "execute_result"
    }
   ],
   "source": [
    "list2 = list(np.random.randint(2, size = len(list1)))\n",
    "list2 = [str(item) for item in list2]\n",
    "\n",
    "list2"
   ]
  },
  {
   "cell_type": "code",
   "execution_count": 4,
   "id": "2f0f5010",
   "metadata": {},
   "outputs": [
    {
     "data": {
      "text/plain": [
       "['0.06847827730031975',\n",
       " '0.6573676948561689',\n",
       " '0.5294649049539015',\n",
       " '0.14203562590257224',\n",
       " '0.02516061391793889']"
      ]
     },
     "execution_count": 4,
     "metadata": {},
     "output_type": "execute_result"
    }
   ],
   "source": [
    "list3 = list(np.random.random(size = len(list1)))\n",
    "list3 = [str(item) for item in list3]\n",
    "\n",
    "list3"
   ]
  },
  {
   "cell_type": "code",
   "execution_count": 6,
   "id": "d68d8a6f",
   "metadata": {},
   "outputs": [],
   "source": [
    "def sanity_checks(my_list1, my_list2, my_list3):\n",
    "    \n",
    "    counter = 0\n",
    "    \n",
    "    for i in range(len(my_list1)):\n",
    "\n",
    "        if my_list1[i] == 'yes':\n",
    "\n",
    "            if (float(my_list2[i]) < 0 or my_list2[i] == '0' or \n",
    "                float(my_list3[i]) < 0 or my_list3[i] == '0'):\n",
    "                \n",
    "                    counter = counter + 1\n",
    "\n",
    "        else:\n",
    "            \n",
    "            if (float(my_list2[i]) < 0 or my_list2[i] != '0' or \n",
    "                float(my_list3[i]) < 0 or my_list3[i] != '0'):\n",
    "                \n",
    "                    counter = counter + 1\n",
    "            \n",
    "    return counter"
   ]
  },
  {
   "cell_type": "code",
   "execution_count": null,
   "id": "b02c97d7",
   "metadata": {},
   "outputs": [],
   "source": [
    "if counter > 0:\n",
    "    \n",
    "    print('Check the input(s)')"
   ]
  },
  {
   "cell_type": "code",
   "execution_count": null,
   "id": "3cb8aaac",
   "metadata": {},
   "outputs": [],
   "source": []
  }
 ],
 "metadata": {
  "kernelspec": {
   "display_name": "Python 3 (ipykernel)",
   "language": "python",
   "name": "python3"
  },
  "language_info": {
   "codemirror_mode": {
    "name": "ipython",
    "version": 3
   },
   "file_extension": ".py",
   "mimetype": "text/x-python",
   "name": "python",
   "nbconvert_exporter": "python",
   "pygments_lexer": "ipython3",
   "version": "3.9.13"
  }
 },
 "nbformat": 4,
 "nbformat_minor": 5
}
