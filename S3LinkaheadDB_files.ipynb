{
 "cells": [
  {
   "cell_type": "code",
   "execution_count": 1,
   "id": "c8565cf4",
   "metadata": {},
   "outputs": [],
   "source": [
    "import os\n",
    "import numpy as np\n",
    "import logging\n",
    "import boto3\n",
    "from botocore.exceptions import ClientError\n",
    "import caosdb as db\n",
    "\n",
    "import sys\n",
    "sys.dont_write_bytecode = True # Don't generate the __pycache__ folder locally\n",
    "sys.tracebacklimit = 0 # Print exception without the buit-in python warning"
   ]
  },
  {
   "cell_type": "code",
   "execution_count": 2,
   "id": "b2525fc3",
   "metadata": {},
   "outputs": [],
   "source": [
    "from PASSWORDS import *"
   ]
  },
  {
   "cell_type": "code",
   "execution_count": 3,
   "id": "8db3e705",
   "metadata": {},
   "outputs": [],
   "source": [
    "s3 = boto3.resource('s3', \n",
    "                    endpoint_url = AMAZON_S3_ENDPOINT_URL, \n",
    "                    aws_access_key_id = AMAZON_S3_ACCESS_KEY, \n",
    "                    aws_secret_access_key = AMAZON_S3_SECRET_KEY)\n",
    "\n",
    "bucket = s3.Bucket(AMAZON_S3_BUCKET)"
   ]
  },
  {
   "cell_type": "code",
   "execution_count": 4,
   "id": "643be710",
   "metadata": {},
   "outputs": [],
   "source": [
    "# for obj in bucket.objects.all():\n",
    "\n",
    "#     if ('TestSample_0' in obj.key):\n",
    "\n",
    "#         try:\n",
    "        \n",
    "#             obj.delete()\n",
    "            \n",
    "#             print(str(obj.key) + ' deleted')\n",
    "        \n",
    "#         except:\n",
    "            \n",
    "#             raise Exception('Something is wrong')"
   ]
  },
  {
   "cell_type": "code",
   "execution_count": 5,
   "id": "fee80924",
   "metadata": {},
   "outputs": [],
   "source": [
    "with open('S3_files.txt', 'w') as file:\n",
    "\n",
    "    for obj in bucket.objects.all():\n",
    "        \n",
    "        file.write(obj.key + ' ' + obj.last_modified.strftime('Upload date: '+'%Y-%m-%d') + '\\n')"
   ]
  },
  {
   "cell_type": "code",
   "execution_count": 6,
   "id": "664ff82a",
   "metadata": {},
   "outputs": [
    {
     "name": "stderr",
     "output_type": "stream",
     "text": [
      "*** Warning! ***\n",
      "Insecure SSL mode, certificate will not be checked! Please consider removing the `ssl_insecure` configuration option.\n",
      "****************\n"
     ]
    }
   ],
   "source": [
    "try:\n",
    "\n",
    "    db.configure_connection(\n",
    "    url = LINKAHEAD_URL,\n",
    "    password_method = \"plain\",\n",
    "    ssl_insecure = True, # remove after naming server\n",
    "    username = LINKAHEAD_USERNAME,\n",
    "    password = LINKAHEAD_PASSWORD,\n",
    "    timeout = 1000\n",
    "    )\n",
    "\n",
    "except:\n",
    "\n",
    "    try:\n",
    "\n",
    "        db.configure_connection(\n",
    "        url = LINKAHEAD_URL,\n",
    "        password_method = \"plain\",\n",
    "        ssl_insecure = True, # remove after naming server\n",
    "        username = LINKAHEAD_USERNAME,\n",
    "        password = LINKAHEAD_PASSWORD,\n",
    "        https_proxy = UMG_PROXY,\n",
    "        timeout = 1000\n",
    "        )\n",
    "\n",
    "    except:\n",
    "\n",
    "        ErrorMessage = st.error('Unsuccessful connection with the Linkahead DB. Contact the admin(s) for help.', \n",
    "                                icon = None)\n",
    "        time.sleep(SleepTime)\n",
    "        ErrorMessage.empty()\n",
    "        st.stop()"
   ]
  },
  {
   "cell_type": "code",
   "execution_count": 7,
   "id": "6e25dd71",
   "metadata": {},
   "outputs": [
    {
     "name": "stderr",
     "output_type": "stream",
     "text": [
      "/home/ajinkya/anaconda3/lib/python3.9/site-packages/urllib3/connectionpool.py:1045: InsecureRequestWarning: Unverified HTTPS request is being made to host '141.5.106.60'. Adding certificate verification is strongly advised. See: https://urllib3.readthedocs.io/en/1.26.x/advanced-usage.html#ssl-warnings\n",
      "  warnings.warn(\n",
      "/home/ajinkya/anaconda3/lib/python3.9/site-packages/urllib3/connectionpool.py:1045: InsecureRequestWarning: Unverified HTTPS request is being made to host '141.5.106.60'. Adding certificate verification is strongly advised. See: https://urllib3.readthedocs.io/en/1.26.x/advanced-usage.html#ssl-warnings\n",
      "  warnings.warn(\n"
     ]
    },
    {
     "data": {
      "text/plain": [
       "<Entities>\n",
       "  <noscript>\n",
       "    </noscript>\n",
       "  <Record id=\"633\">\n",
       "    <Version id=\"15a604d960005f1a27447fff689c3bf0a9bd5c6d\" head=\"true\"/>\n",
       "    <Parent id=\"332\" name=\"LSM_Scan\"/>\n",
       "    <Property id=\"186\" name=\"Sample\" datatype=\"Sample\" importance=\"FIX\" flag=\"inheritance:FIX\">282</Property>\n",
       "    <Property id=\"179\" name=\"operator\" description=\"The person who did the preparation.\" datatype=\"Person\" importance=\"FIX\" flag=\"inheritance:FIX\">216</Property>\n",
       "    <Property id=\"195\" name=\"date\" description=\"The time when the scan was done.\" datatype=\"DATETIME\" importance=\"FIX\" flag=\"inheritance:FIX\">2022-12-06</Property>\n",
       "    <Property id=\"335\" name=\"delta_pixel_xy\" description=\"XY pixel size in micrometer.\" datatype=\"DOUBLE\" importance=\"FIX\" flag=\"inheritance:FIX\">5.9</Property>\n",
       "    <Property id=\"336\" name=\"delta_pixel_z\" description=\"Z pixel size in micrometer.\" datatype=\"DOUBLE\" importance=\"FIX\" flag=\"inheritance:FIX\">4.0</Property>\n",
       "    <Property id=\"337\" name=\"number_of_channels\" description=\"Number of channels, can be between 2 and 7.\" datatype=\"INTEGER\" importance=\"FIX\" flag=\"inheritance:FIX\">3</Property>\n",
       "    <Property id=\"338\" name=\"filters\" datatype=\"LIST&lt;Wavelengths&gt;\" importance=\"FIX\" flag=\"inheritance:FIX\">\n",
       "      <Value>347</Value>\n",
       "      <Value>349</Value>\n",
       "      <Value>351</Value>\n",
       "    </Property>\n",
       "    <Property id=\"339\" name=\"illumination_left\" description=\"Light sheet originating from the left.\" datatype=\"BOOLEAN\" importance=\"FIX\" flag=\"inheritance:FIX\">True</Property>\n",
       "    <Property id=\"340\" name=\"illumination_right\" description=\"Light sheet originating from the right.\" datatype=\"BOOLEAN\" importance=\"FIX\" flag=\"inheritance:FIX\">True</Property>\n",
       "    <Property id=\"333\" name=\"apertures\" datatype=\"LIST&lt;DOUBLE&gt;\" importance=\"FIX\" flag=\"inheritance:FIX\">\n",
       "      <Value>10.0</Value>\n",
       "      <Value>50.0</Value>\n",
       "      <Value>100.0</Value>\n",
       "    </Property>\n",
       "    <Property id=\"334\" name=\"exposure_times\" datatype=\"LIST&lt;DOUBLE&gt;\" importance=\"FIX\" flag=\"inheritance:FIX\">\n",
       "      <Value>120.0</Value>\n",
       "      <Value>120.0</Value>\n",
       "      <Value>120.0</Value>\n",
       "    </Property>\n",
       "    <Property id=\"544\" name=\"objective\" description=\"Objective used.\" datatype=\"TEXT\" importance=\"FIX\" flag=\"inheritance:FIX\">1x</Property>\n",
       "    <Property id=\"545\" name=\"zoom\" description=\"Zoom used.\" datatype=\"TEXT\" importance=\"FIX\" flag=\"inheritance:FIX\">1x</Property>\n",
       "    <Property id=\"546\" name=\"sheet_width\" description=\"Sheet Width used in %.\" datatype=\"INTEGER\" importance=\"FIX\" flag=\"inheritance:FIX\">50</Property>\n",
       "    <Property id=\"471\" name=\"additional_comments\" description=\"Additional comments, if any.\" datatype=\"TEXT\" importance=\"FIX\" flag=\"inheritance:FIX\">\n",
       "      <EmptyString/>\n",
       "    </Property>\n",
       "  </Record>\n",
       "</Entities>"
      ]
     },
     "execution_count": 7,
     "metadata": {},
     "output_type": "execute_result"
    }
   ],
   "source": [
    "LSM_entries = db.execute_query('FIND RECORD LSM_SCAN')\n",
    "\n",
    "# LSM_entries.delete()\n",
    "\n",
    "LSM_entries"
   ]
  },
  {
   "cell_type": "code",
   "execution_count": null,
   "id": "00464e14",
   "metadata": {},
   "outputs": [],
   "source": []
  }
 ],
 "metadata": {
  "kernelspec": {
   "display_name": "Python 3 (ipykernel)",
   "language": "python",
   "name": "python3"
  },
  "language_info": {
   "codemirror_mode": {
    "name": "ipython",
    "version": 3
   },
   "file_extension": ".py",
   "mimetype": "text/x-python",
   "name": "python",
   "nbconvert_exporter": "python",
   "pygments_lexer": "ipython3",
   "version": "3.9.13"
  }
 },
 "nbformat": 4,
 "nbformat_minor": 5
}
