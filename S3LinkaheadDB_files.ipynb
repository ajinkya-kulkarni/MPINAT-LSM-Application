{
 "cells": [
  {
   "cell_type": "code",
   "execution_count": null,
   "id": "c8565cf4",
   "metadata": {},
   "outputs": [],
   "source": [
    "import os\n",
    "import numpy as np\n",
    "import logging\n",
    "import boto3\n",
    "from botocore.exceptions import ClientError\n",
    "import caosdb as db\n",
    "\n",
    "import sys\n",
    "sys.dont_write_bytecode = True # Don't generate the __pycache__ folder locally\n",
    "sys.tracebacklimit = 0 # Print exception without the buit-in python warning"
   ]
  },
  {
   "cell_type": "code",
   "execution_count": null,
   "id": "b2525fc3",
   "metadata": {},
   "outputs": [],
   "source": [
    "from PASSWORDS import *"
   ]
  },
  {
   "cell_type": "code",
   "execution_count": null,
   "id": "8db3e705",
   "metadata": {},
   "outputs": [],
   "source": [
    "s3 = boto3.resource('s3', \n",
    "                    endpoint_url = AMAZON_S3_ENDPOINT_URL, \n",
    "                    aws_access_key_id = AMAZON_S3_ACCESS_KEY, \n",
    "                    aws_secret_access_key = AMAZON_S3_SECRET_KEY)\n",
    "\n",
    "bucket = s3.Bucket(AMAZON_S3_BUCKET)"
   ]
  },
  {
   "cell_type": "code",
   "execution_count": null,
   "id": "643be710",
   "metadata": {},
   "outputs": [],
   "source": [
    "for obj in bucket.objects.all():\n",
    "\n",
    "    if ('TestSample_0' in obj.key):\n",
    "        \n",
    "        try:\n",
    "        \n",
    "            obj.delete()\n",
    "            \n",
    "            print(str(obj.key) + ' deleted')\n",
    "        \n",
    "        except:\n",
    "            \n",
    "            raise Exception('Something is wrong')"
   ]
  },
  {
   "cell_type": "code",
   "execution_count": null,
   "id": "fee80924",
   "metadata": {},
   "outputs": [],
   "source": [
    "with open('S3_files.txt', 'w') as file:\n",
    "\n",
    "    for obj in bucket.objects.all():\n",
    "        \n",
    "        file.write(obj.key + ' ' + obj.last_modified.strftime('Upload date: '+'%Y-%m-%d') + '\\n')"
   ]
  },
  {
   "cell_type": "code",
   "execution_count": null,
   "id": "664ff82a",
   "metadata": {},
   "outputs": [],
   "source": [
    "try:\n",
    "\n",
    "    db.configure_connection(\n",
    "    url = LINKAHEAD_URL,\n",
    "    password_method = \"plain\",\n",
    "    ssl_insecure = True, # remove after naming server\n",
    "    username = LINKAHEAD_USERNAME,\n",
    "    password = LINKAHEAD_PASSWORD,\n",
    "    timeout = 1000\n",
    "    )\n",
    "\n",
    "except:\n",
    "\n",
    "    try:\n",
    "\n",
    "        db.configure_connection(\n",
    "        url = LINKAHEAD_URL,\n",
    "        password_method = \"plain\",\n",
    "        ssl_insecure = True, # remove after naming server\n",
    "        username = LINKAHEAD_USERNAME,\n",
    "        password = LINKAHEAD_PASSWORD,\n",
    "        https_proxy = UMG_PROXY,\n",
    "        timeout = 1000\n",
    "        )\n",
    "\n",
    "    except:\n",
    "\n",
    "        ErrorMessage = st.error('Unsuccessful connection with the Linkahead DB. Contact the admin(s) for help.', \n",
    "                                icon = None)\n",
    "        time.sleep(SleepTime)\n",
    "        ErrorMessage.empty()\n",
    "        st.stop()"
   ]
  },
  {
   "cell_type": "code",
   "execution_count": null,
   "id": "6e25dd71",
   "metadata": {},
   "outputs": [],
   "source": [
    "LSM_entries = db.execute_query('FIND RECORD LSM_SCAN')\n",
    "\n",
    "# LSM_entries.delete()"
   ]
  },
  {
   "cell_type": "code",
   "execution_count": null,
   "id": "00464e14",
   "metadata": {},
   "outputs": [],
   "source": []
  }
 ],
 "metadata": {
  "kernelspec": {
   "display_name": "Python 3 (ipykernel)",
   "language": "python",
   "name": "python3"
  },
  "language_info": {
   "codemirror_mode": {
    "name": "ipython",
    "version": 3
   },
   "file_extension": ".py",
   "mimetype": "text/x-python",
   "name": "python",
   "nbconvert_exporter": "python",
   "pygments_lexer": "ipython3",
   "version": "3.9.13"
  }
 },
 "nbformat": 4,
 "nbformat_minor": 5
}
